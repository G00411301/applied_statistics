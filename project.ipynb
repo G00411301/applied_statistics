{
 "cells": [
  {
   "cell_type": "markdown",
   "metadata": {},
   "source": [
    "# Applied Statistics"
   ]
  },
  {
   "cell_type": "markdown",
   "metadata": {},
   "source": [
    "## Modules\n",
    "\n",
    "First we will import all the modules used throughout this notebook. "
   ]
  },
  {
   "cell_type": "code",
   "execution_count": 2,
   "metadata": {},
   "outputs": [],
   "source": [
    "import math                         #import the math library\n",
    "import itertools                    #import itertools library\n",
    "import random                       #import random module\n",
    "import numpy as np                  #import numpy library\n",
    "import matplotlib.pyplot as plt     #import matplot library\n",
    "import scipy.stats as stats         #import scipy module\n",
    "import statsmodels as sm            #import statistical models library\n",
    "import pandas as pd                 #import pandas library\n",
    "import seaborn as sns               #import seaborn library\n",
    "import csv                          #import the csv module to work with csv data source\n"
   ]
  },
  {
   "cell_type": "markdown",
   "metadata": {},
   "source": [
    "## Introduction\n",
    "\n",
    "---\n",
    "\n",
    "The following notebook contains my response to the applied statistics module for the Hdip in computer science in data analytics.\n",
    "\n",
    "### Project instructions\n",
    "\n",
    "Complete the project in a single notebook called project.ipynb in your repository. The same style should be used as detailed above: explanations in MarkDown and code comments, clean code, and regular commits. Use plots as appropriate.\n",
    "\n",
    "In this project, you will analyze the PlantGrowth R dataset. You will find a short description of it on Vicent Arel-Bundock's Rdatasets page. The dataset contains two main variables, a treatment group and the weight of plants within those groups.\n",
    "\n",
    "Your task is to perform t-tests and ANOVA on this dataset while describing the dataset and explaining your work. In doing this you should:\n",
    "\n",
    "- Download and save the dataset to your repository.\n",
    "\n",
    "- Describe the data set in your notebook.\n",
    "\n",
    "- Describe what a t-test is, how it works, and what the assumptions are.\n",
    "\n",
    "- Perform a t-test to determine whether there is a significant difference between the two treatment groups trt1 and trt2.\n",
    "\n",
    "- Perform ANOVA to determine whether there is a significant difference between the three treatment groups ctrl, trt1, and trt2.\n",
    "\n",
    "- Explain why it is more appropriate to apply ANOVA rather than several t-tests when analyzing more than two groups.\n",
    "\n"
   ]
  },
  {
   "cell_type": "markdown",
   "metadata": {},
   "source": [
    "The data set has been downloaded and saved in the repository for access through this Jupyter notebook. \n",
    "\n",
    "The following description of the data set is provided by the site hosting the data base.\n",
    "\n",
    "![Description of Data](./images/plant_growth_description.jpg)\n",
    "\n"
   ]
  },
  {
   "cell_type": "markdown",
   "metadata": {},
   "source": [
    "Reviewing data description before biginning any analysis or even looking at the data itself is a worthwhile exercise. The above description provides a lot of information pertaining to the kinds of analysis that I can do on the data. following a simple review of the data description, the following information can be determined:\n",
    "\n",
    "- The context of the study is an evaluation of the impact 2 different treatment conditions on the yield of a plant\n",
    "- The data is likely continious data containing float data points\n",
    "- There are 3 groups of data (control, treatment 1 and treatment 2) and a total of 30 cases (query 10 data points for each - consideration if uneqal number of data points)\n",
    "- \n",
    "\n",
    "\n",
    "\n",
    "Next, we will import our data from the csv file to a pandas data fram for further analysis in the notebook"
   ]
  },
  {
   "cell_type": "code",
   "execution_count": null,
   "metadata": {},
   "outputs": [
    {
     "data": {
      "text/html": [
       "<div>\n",
       "<style scoped>\n",
       "    .dataframe tbody tr th:only-of-type {\n",
       "        vertical-align: middle;\n",
       "    }\n",
       "\n",
       "    .dataframe tbody tr th {\n",
       "        vertical-align: top;\n",
       "    }\n",
       "\n",
       "    .dataframe thead th {\n",
       "        text-align: right;\n",
       "    }\n",
       "</style>\n",
       "<table border=\"1\" class=\"dataframe\">\n",
       "  <thead>\n",
       "    <tr style=\"text-align: right;\">\n",
       "      <th></th>\n",
       "      <th>Weight</th>\n",
       "    </tr>\n",
       "  </thead>\n",
       "  <tbody>\n",
       "    <tr>\n",
       "      <th>count</th>\n",
       "      <td>30.000000</td>\n",
       "    </tr>\n",
       "    <tr>\n",
       "      <th>mean</th>\n",
       "      <td>5.073000</td>\n",
       "    </tr>\n",
       "    <tr>\n",
       "      <th>std</th>\n",
       "      <td>0.701192</td>\n",
       "    </tr>\n",
       "    <tr>\n",
       "      <th>min</th>\n",
       "      <td>3.590000</td>\n",
       "    </tr>\n",
       "    <tr>\n",
       "      <th>25%</th>\n",
       "      <td>4.550000</td>\n",
       "    </tr>\n",
       "    <tr>\n",
       "      <th>50%</th>\n",
       "      <td>5.155000</td>\n",
       "    </tr>\n",
       "    <tr>\n",
       "      <th>75%</th>\n",
       "      <td>5.530000</td>\n",
       "    </tr>\n",
       "    <tr>\n",
       "      <th>max</th>\n",
       "      <td>6.310000</td>\n",
       "    </tr>\n",
       "  </tbody>\n",
       "</table>\n",
       "</div>"
      ],
      "text/plain": [
       "          Weight\n",
       "count  30.000000\n",
       "mean    5.073000\n",
       "std     0.701192\n",
       "min     3.590000\n",
       "25%     4.550000\n",
       "50%     5.155000\n",
       "75%     5.530000\n",
       "max     6.310000"
      ]
     },
     "execution_count": 16,
     "metadata": {},
     "output_type": "execute_result"
    }
   ],
   "source": [
    "data=pd.read_csv('./dataset/PlantGrowth.csv') #import data from the csv to a pandas data frame\n",
    "df= pd.DataFrame({'Group':data['group'], 'Weight':data['weight']}) #restrucutre the data import to just include the 2 columns we are interested in\n",
    "#print(df) #print the data fram to the console - just to confirm proper import\n",
    "df.describe() #print a description of the data"
   ]
  },
  {
   "cell_type": "markdown",
   "metadata": {},
   "source": [
    "The above analysis is a standard pandas function that prints out a descripton of the data set being analysed. The follow data points and insight can be drawn\n",
    "\n",
    "- Count - 30 - number of data points matches data descripton from data source so we are confident nothing was lost during import/sorting\n",
    "- Mean - 5.07 - mean of the data. This isn't overly interesting at this point as this is the combined mean of the 3 different data sets\n",
    "- std - 0.70- standard deviation, as with the mean, not overly interesting at this time, more relevant when we assess each data sets appropriateness for ANOVA analysis\n",
    "- min, max - shows us the range within all of the data falls, interesting for understanding where we expect values to fall on visualisation\n",
    "- 25%, 50%, 75% - shows where the data is likely to fall eg everyhting in the bottom 50% is less than 5.155 - again provides insight to where we expect data to land on the range\n",
    "- Description values confimred the data is a continious data set.\n",
    "\n",
    "\n",
    "At this point, we have downloaded the data, imported it into our jupyter note book, created a data frame and discarded the numbering column that is not relevant to our analysis. We then quickly validated a succesful import and checked for data completeness.\n",
    "\n",
    "---\n"
   ]
  },
  {
   "cell_type": "markdown",
   "metadata": {},
   "source": [
    "## $t$-Test\n",
    "\n",
    "A $t$-test is an analysis technique that asses and compare the mean of 2 data sets. Within the $t$-test category of analysis, there are the option of independent and dependent or paired $t$-tests. Understanding the data and its context is important for determining the most approriate test to perform in each scenario. A paired sample $t$-test is performed when there are two sets of results that are related to each other eg. comparing results from before and after a specific action where result x in the before and result x in the after both relate to subject y, for example, if you were testing a persons reflexes before and after drinking alcohol.\n",
    "\n",
    "An independent $t$-test is performned when the two seperate sets of samples are being tested (again for any significant difference in the mean). The independent $t$-test is the most appriate of the two in this case as the plants being evaluated are not related in any way, it is not possible to test the same plant under each of the conditions/before and after a change in treatment so the samples are in no way related"
   ]
  },
  {
   "cell_type": "markdown",
   "metadata": {},
   "source": [
    "## References\n",
    "\n",
    "- https://statistics.laerd.com/spss-tutorials/independent-t-test-using-spss-statistics.php\n",
    "- https://en.wikipedia.org/wiki/Student%27s_t-test\n"
   ]
  }
 ],
 "metadata": {
  "kernelspec": {
   "display_name": "Python 3",
   "language": "python",
   "name": "python3"
  },
  "language_info": {
   "codemirror_mode": {
    "name": "ipython",
    "version": 3
   },
   "file_extension": ".py",
   "mimetype": "text/x-python",
   "name": "python",
   "nbconvert_exporter": "python",
   "pygments_lexer": "ipython3",
   "version": "3.12.4"
  }
 },
 "nbformat": 4,
 "nbformat_minor": 2
}
