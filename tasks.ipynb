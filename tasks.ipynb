{
 "cells": [
  {
   "cell_type": "markdown",
   "metadata": {},
   "source": [
    "### Introduction ###\n",
    "\n",
    "The following notebook deals with the tasks assigned throughout the semester"
   ]
  },
  {
   "cell_type": "markdown",
   "metadata": {},
   "source": [
    "### Libraries/Imports ###\n",
    "\n",
    "The following python libraries have been imported for use in satisdying the requirements of the assinged tasks.\n"
   ]
  },
  {
   "cell_type": "code",
   "execution_count": 34,
   "metadata": {},
   "outputs": [],
   "source": [
    "import math                         #import the math library\n",
    "import itertools                    #import itertools library\n",
    "import random                       #import random module\n",
    "import numpy as np                  #import numpy library\n",
    "import matplotlib.pyplot as plt     #import matplot library\n",
    "import scipy.stats as stats         #import scipy module\n",
    "import statsmodels as sm            #import statistical models library"
   ]
  },
  {
   "cell_type": "markdown",
   "metadata": {},
   "source": [
    "---"
   ]
  },
  {
   "cell_type": "markdown",
   "metadata": {},
   "source": [
    "### Task 1: Permutations and Combinations ###\n",
    "\n"
   ]
  },
  {
   "cell_type": "markdown",
   "metadata": {},
   "source": [
    "**Question**\n",
    "\n",
    "*Suppose we alter the Lady Tasting Tea experiment to involve twelve cups of tea. Six have the milk in first and the other six having tea in first. A person claims they have the special power of being able to tell whether the tea or the milk went into a cup first upon tasting it. You agree to accept their claim if they can tell which of the six cups in your experiment had the milk in first.*\n",
    "\n",
    "*Calculate, using Python, the probability that they select the correct six cups. Here you should assume that they have no special powers in figuring it out, that they are just guessing. Remember to show and justify your workings in code and MarkDown cells.*\n",
    "\n",
    "*Suppose, now, you are willing to accept one error. Once they select the six cups they think had the milk in first, you will give them the benefit of the doubt should they have selected at least five of the correct cups. Calculate the probability, assuming they have no special powers, that the person makes at most one error.*\n",
    "\n",
    "*Would you accept two errors? Explain.*"
   ]
  },
  {
   "cell_type": "markdown",
   "metadata": {},
   "source": [
    "The fist step is to calculate the probability of the lady picking the 6 correct cups, that is the 6 cups of tea made with milk first."
   ]
  },
  {
   "cell_type": "code",
   "execution_count": 35,
   "metadata": {},
   "outputs": [
    {
     "name": "stdout",
     "output_type": "stream",
     "text": [
      "924\n"
     ]
    }
   ],
   "source": [
    "n = 12                              #number of cups of tea in experiment\n",
    "k = 6                               #number of cups wiht milk in first\n",
    "print(math.comb(n,k))               #calculate and print the numner of potential combinations of cups with milk first based on 12 cups without order (order doesnt matter)\n"
   ]
  },
  {
   "cell_type": "markdown",
   "metadata": {},
   "source": [
    "The above illustrates that the lady has 1 in 924 chances of correctly grouping the cups of tea assuming she has no special ability identify cups of tea when there are 12 cups of tea, 6 of whcih had milk put in first."
   ]
  },
  {
   "cell_type": "code",
   "execution_count": 36,
   "metadata": {},
   "outputs": [
    {
     "name": "stdout",
     "output_type": "stream",
     "text": [
      "Probability of Success: 0.0010822510822510823\n"
     ]
    }
   ],
   "source": [
    "#calculate pobability of the lady correctly selecting the 6 correct cups.\n",
    "\n",
    "print(\"Probability of Success: \" + str(1/ math.comb(n,k)))"
   ]
  },
  {
   "cell_type": "markdown",
   "metadata": {},
   "source": [
    "Now, we will look at the overlaps within the data. That is, looking at all the possible combinations of cups available to the lady. Obviously, there is only 1 correct answer, all 6 cups classified correctly and one exactly wrong answer where all 6 cups are grouped correctly by classified as milk first where in reality the selected 6 cups are tea first."
   ]
  },
  {
   "cell_type": "code",
   "execution_count": 37,
   "metadata": {},
   "outputs": [],
   "source": [
    "labels = list(range(n))                             #first we create a list containing the 12 possible option [0, 1, ... , 11]\n",
    "combos = list(itertools.combinations(labels,k))     #Create a list of all the possible combinations consisting of 6 cups\n"
   ]
  },
  {
   "cell_type": "markdown",
   "metadata": {},
   "source": [
    "At this point, we have made a list of all the possible 6 cup combinations (924). now we want to create a list of cups that have been made with milk first."
   ]
  },
  {
   "cell_type": "code",
   "execution_count": 38,
   "metadata": {},
   "outputs": [
    {
     "data": {
      "text/plain": [
       "[3, 5, 6, 8, 9, 11]"
      ]
     },
     "execution_count": 38,
     "metadata": {},
     "output_type": "execute_result"
    }
   ],
   "source": [
    "milk_first = random.sample(labels,k)    #use the random library to create a sample of milk first cups of t. k is used as an input here so we can change the parameters of the study and rerun the notebook to update workings. we use the sample function so replacement is not allowed (we can classiify cup x as milk first more than once) \n",
    "milk_first.sort()                       #Sort the list for easier assessment\n",
    "milk_first                              #print out the sorted list of cups that have milk first"
   ]
  },
  {
   "cell_type": "markdown",
   "metadata": {},
   "source": [
    "Now we want to know what the overlap between the correct list of cups with milk first and the possible options open to the lady. This will show us how may chances there are to correctly classify 1, 2, 3 etc cups.\n",
    "\n",
    "Essentially, we will look at all possible combinations calculated above and simply calculate the number of common values in the milk_first variable above and each possible selection."
   ]
  },
  {
   "cell_type": "code",
   "execution_count": 39,
   "metadata": {},
   "outputs": [],
   "source": [
    "no_overlaps = []                        #start by creating an empty list to append the assessments to\n",
    "\n",
    "for x in combos:                        #set up a for loop to run throuh the list of possible combinations in the combos list\n",
    "    s1 = set(x)                         #convert the x record in the comnbos list to a set\n",
    "    s2 = set(milk_first)                #convert the milk first list to a set\n",
    "    overlap = s1.intersection(s2)       #calculate the intersection between x and the milk_first cups\n",
    "    #print (x, overlap, len(overlap))   #print out the values in the set x, values in the milk_first set and the number of overlap in each\n",
    "    no_overlaps.append(len(overlap))    #add the length of the over lap to the no_overlaps list we set up earlier. This is essentially the nuber of common values in x and the milk_first set of cups\n",
    "\n",
    "#print(no_overlaps)"
   ]
  },
  {
   "cell_type": "markdown",
   "metadata": {},
   "source": [
    "So far, we have identified all the possible combination of cups available to the lady, created a data set that selects the milk_first cups of tea at random and evaluated the overlap between the milk_first cups and the available combinations.\n",
    "\n",
    "Now we want to look at the rate of occurance of each level of overlap, that is 0 correct classification in the selection all the way up to 6 correct classificaitons."
   ]
  },
  {
   "cell_type": "code",
   "execution_count": 40,
   "metadata": {},
   "outputs": [
    {
     "data": {
      "text/plain": [
       "(array([0, 1, 2, 3, 4, 5, 6]), array([  1,  36, 225, 400, 225,  36,   1]))"
      ]
     },
     "execution_count": 40,
     "metadata": {},
     "output_type": "execute_result"
    }
   ],
   "source": [
    "counts = np.unique(no_overlaps, return_counts=True) #counts all levels of occurance of overlap to understand distribution\n",
    "counts\n"
   ]
  },
  {
   "cell_type": "code",
   "execution_count": 41,
   "metadata": {},
   "outputs": [
    {
     "data": {
      "text/plain": [
       "<BarContainer object of 7 artists>"
      ]
     },
     "execution_count": 41,
     "metadata": {},
     "output_type": "execute_result"
    },
    {
     "data": {
      "image/png": "[encoded data removed]",
      "text/plain": [
       "<Figure size 640x480 with 1 Axes>"
      ]
     },
     "metadata": {},
     "output_type": "display_data"
    }
   ],
   "source": [
    "fig, ax = plt.subplots()        #create empty plot for graph\n",
    "ax.bar(counts[0], counts[1])    #plot the occurance of varying levels of overlap"
   ]
  },
  {
   "cell_type": "markdown",
   "metadata": {},
   "source": [
    "Next we want to calculate the probability of the lady getting 5 out of 6 cups classified correctly."
   ]
  },
  {
   "cell_type": "code",
   "execution_count": 42,
   "metadata": {},
   "outputs": [
    {
     "name": "stdout",
     "output_type": "stream",
     "text": [
      "Probability of getting 1 wrong: 0.04004329004329004\n"
     ]
    }
   ],
   "source": [
    "\n",
    "one_wrong = (counts[1][(len(counts[1]))-1] + counts[1][(len(counts[1]))-2])/len(combos)     #calculate the probability of the lady classifying 1 cup incorrectly\n",
    "print(\"Probability of getting 1 wrong: \" + str(one_wrong))                                  #print probability"
   ]
  },
  {
   "cell_type": "markdown",
   "metadata": {},
   "source": [
    "The above analysis illustrates that the lady has a 4% chance of getting 5 out of 6 cups classified correcttly. In my view, this is an acceptable level cetainty to reject the null hypothesis that the lady is guessing at random.\n",
    "\n",
    "The final step is repeating this analysis, to find the probability of getting 2 wrong."
   ]
  },
  {
   "cell_type": "code",
   "execution_count": 43,
   "metadata": {},
   "outputs": [
    {
     "name": "stdout",
     "output_type": "stream",
     "text": [
      "Probability of getting 2 wrong: 0.28354978354978355\n"
     ]
    }
   ],
   "source": [
    "two_wrong = (counts[1][(len(counts[1]))-1] + counts[1][(len(counts[1]))-2]+ counts[1][(len(counts[1]))-3])/len(combos)  #calculate the probability of the lady classifying 2 cup incorrectly\n",
    "print(\"Probability of getting 2 wrong: \" + str(two_wrong))                                                              #print probability"
   ]
  },
  {
   "cell_type": "markdown",
   "metadata": {},
   "source": [
    "The above analysis shows a probability of getting 2 cups wrong as 28%. Allowing 2 miclassifications does not provide enough evidence to reject the null hypothesis. Essentially, this means that anyone, guessing if the tea was mande with milk first will correctly classify 4 out of 6 cups 28% of the time.\n",
    "\n",
    "Summary of results:\n",
    "- Probability of Correct classification of all 6 cups:    0.01%\n",
    "- Probability of Correct classification with 1 error:     4.00%\n",
    "- Probability of Correct classification with 2 errors:    28.35%"
   ]
  },
  {
   "cell_type": "markdown",
   "metadata": {},
   "source": [
    "---"
   ]
  },
  {
   "cell_type": "markdown",
   "metadata": {},
   "source": [
    "### Task 2: numpy's Normal Distribution ###"
   ]
  },
  {
   "cell_type": "markdown",
   "metadata": {},
   "source": [
    "**Question**\n",
    "\n",
    "*In this task you will assess whether numpy.random.normal() properly generates normal values. To begin, generate a sample of one hundred thousand values using the function with mean 10.0 and standard deviation 3.0.*\n",
    "\n",
    "*Use the scipy.stats.shapiro() function to test whether your sample came from a normal distribution. Explain the results and output.*\n",
    "\n",
    "*Plot a histogram of your values and plot the corresponding normal distribution probability density function on top of it.*"
   ]
  },
  {
   "cell_type": "markdown",
   "metadata": {},
   "source": [
    "First we want to generate a random set of values with normal distribution."
   ]
  },
  {
   "cell_type": "code",
   "execution_count": 44,
   "metadata": {},
   "outputs": [
    {
     "data": {
      "text/plain": [
       "100000"
      ]
     },
     "execution_count": 44,
     "metadata": {},
     "output_type": "execute_result"
    }
   ],
   "source": [
    "ds = np.random.normal(10.0, 3.0, 100000) #generate a random sample of normally distributred data with 100,000 data points, a mean of 10 and standard deviation of 3\n",
    "len(ds)"
   ]
  },
  {
   "cell_type": "markdown",
   "metadata": {},
   "source": [
    "Now that we have generated our dataset we will viualise it using a histogram."
   ]
  },
  {
   "cell_type": "code",
   "execution_count": 45,
   "metadata": {},
   "outputs": [
    {
     "data": {
      "text/plain": [
       "(array([2.000e+00, 1.000e+00, 3.000e+00, 5.000e+00, 4.000e+00, 1.600e+01,\n",
       "        2.400e+01, 4.600e+01, 8.100e+01, 1.510e+02, 2.330e+02, 3.380e+02,\n",
       "        4.770e+02, 6.840e+02, 9.340e+02, 1.291e+03, 1.760e+03, 2.284e+03,\n",
       "        2.823e+03, 3.471e+03, 4.328e+03, 4.839e+03, 5.433e+03, 6.078e+03,\n",
       "        6.359e+03, 6.691e+03, 6.706e+03, 6.422e+03, 6.191e+03, 5.733e+03,\n",
       "        5.249e+03, 4.637e+03, 3.837e+03, 3.131e+03, 2.541e+03, 2.098e+03,\n",
       "        1.473e+03, 1.173e+03, 8.190e+02, 6.000e+02, 3.650e+02, 2.620e+02,\n",
       "        1.710e+02, 9.800e+01, 6.100e+01, 3.500e+01, 1.900e+01, 1.200e+01,\n",
       "        7.000e+00, 4.000e+00]),\n",
       " array([-3.16752998, -2.66641269, -2.16529539, -1.66417809, -1.1630608 ,\n",
       "        -0.6619435 , -0.1608262 ,  0.34029109,  0.84140839,  1.34252569,\n",
       "         1.84364298,  2.34476028,  2.84587758,  3.34699487,  3.84811217,\n",
       "         4.34922947,  4.85034676,  5.35146406,  5.85258135,  6.35369865,\n",
       "         6.85481595,  7.35593324,  7.85705054,  8.35816784,  8.85928513,\n",
       "         9.36040243,  9.86151973, 10.36263702, 10.86375432, 11.36487162,\n",
       "        11.86598891, 12.36710621, 12.86822351, 13.3693408 , 13.8704581 ,\n",
       "        14.3715754 , 14.87269269, 15.37380999, 15.87492729, 16.37604458,\n",
       "        16.87716188, 17.37827917, 17.87939647, 18.38051377, 18.88163106,\n",
       "        19.38274836, 19.88386566, 20.38498295, 20.88610025, 21.38721755,\n",
       "        21.88833484]),\n",
       " <BarContainer object of 50 artists>)"
      ]
     },
     "execution_count": 45,
     "metadata": {},
     "output_type": "execute_result"
    },
    {
     "data": {
      "image/png": "[encoded data removed]",
      "text/plain": [
       "<Figure size 640x480 with 1 Axes>"
      ]
     },
     "metadata": {},
     "output_type": "display_data"
    }
   ],
   "source": [
    "fig, ax = plt.subplots()                       #Create a blank plot\n",
    "ax.hist(ds, edgecolor = 'black', bins = 50)    #visualise the data created in the ds variable above"
   ]
  },
  {
   "cell_type": "markdown",
   "metadata": {},
   "source": [
    "The above histogram illustrates the distribution of the data generated. The data appears to be normally distributed which will form the basis of our assumption in relation to the data. Next we will complete a shapiro wilks test in order to test the data for normality"
   ]
  },
  {
   "cell_type": "code",
   "execution_count": 46,
   "metadata": {},
   "outputs": [
    {
     "name": "stderr",
     "output_type": "stream",
     "text": [
      "C:\\Users\\mcase\\AppData\\Roaming\\Python\\Python312\\site-packages\\scipy\\stats\\_axis_nan_policy.py:573: UserWarning: scipy.stats.shapiro: For N > 5000, computed p-value may not be accurate. Current N is 100000.\n",
      "  res = hypotest_fun_out(*samples, **kwds)\n"
     ]
    },
    {
     "data": {
      "text/plain": [
       "ShapiroResult(statistic=np.float64(0.9999805097618828), pvalue=np.float64(0.9269107744321756))"
      ]
     },
     "execution_count": 46,
     "metadata": {},
     "output_type": "execute_result"
    }
   ],
   "source": [
    "stats.shapiro(ds) #perform shapiro wilks test on the data"
   ]
  },
  {
   "cell_type": "markdown",
   "metadata": {},
   "source": [
    "The above result provides a statistic value of 0.99 and a p-value of 0.94 (based on generated data at time or writing).\n",
    "\n",
    "A p-value of 5% is what is typically considered to detemrine signifncance. If our p-value was below 5% we would be able to reject the null hypothesis. Note, the confidence level of requirement for the p-value is set by the user. 5% is commmonly used but this can shift up or down depending on the requirements or applicaiton. \n",
    "\n",
    "With the null hypotesis of the shapiro wilks test being that the data is drawn from a normal distribution, a p-value of 0.94 gives us confidence that we can not reject the null hypothesis, in other words, we can accept that there is no reason to indicate that the data is not normally distributed.\n",
    "\n",
    "Next we want to graph our generated data and the normal distribution probability density function.\n"
   ]
  },
  {
   "cell_type": "code",
   "execution_count": null,
   "metadata": {},
   "outputs": [],
   "source": [
    "fig, ax = plt.subplots() #first we create a graph area"
   ]
  },
  {
   "cell_type": "markdown",
   "metadata": {},
   "source": [
    "---"
   ]
  },
  {
   "cell_type": "markdown",
   "metadata": {},
   "source": [
    "### Task 3: t-Test Calculation ###"
   ]
  },
  {
   "cell_type": "markdown",
   "metadata": {},
   "source": [
    "**Question**\n",
    "\n",
    "*Consider the following dataset containing resting heart rates for patients before and after embarking on a two-week exercise program.*\n",
    "\n",
    "*Patient ID\t0\t1\t2\t3\t4\t5\t6\t7\t8\t9*\n",
    "\n",
    "*Before\t    63\t68\t70\t64\t74\t67\t70\t57\t66\t65*\n",
    "\n",
    "*After\t    64\t64\t68\t64\t73\t70\t72\t54\t61\t63*\n",
    "\n",
    "*Calculate the t-statistic based on this data set, using Python. Compare it to the value given by scipy.stats. Explain your work and list any sources used.*"
   ]
  },
  {
   "cell_type": "markdown",
   "metadata": {},
   "source": [
    "---"
   ]
  },
  {
   "cell_type": "markdown",
   "metadata": {},
   "source": [
    "### Task 4: ANOVA ###"
   ]
  },
  {
   "cell_type": "markdown",
   "metadata": {},
   "source": [
    "**Question**\n",
    "\n",
    "*In this test we will estimate the probability of committing a type II error in specific circumstances. To begin, create a variable called no_type_ii and set it to 0.*\n",
    "\n",
    "*Now use a loop to perform the following test 10,000 times.*\n",
    "\n",
    "*Use numpy.random.normal to generate three samples with 100 values each. Give each a standard deviation of 0.1. Give the first sample a mean of 4.9, the second a mean of 5.0, and the third a mean of 5.1.*\n",
    "\n",
    "*Perform one-way anova on the three samples and add 1 to no_type_ii whenever a type II error occurs.*\n",
    "\n",
    "*Summarize and explain your results.*"
   ]
  },
  {
   "cell_type": "markdown",
   "metadata": {},
   "source": [
    "---"
   ]
  }
 ],
 "metadata": {
  "kernelspec": {
   "display_name": "Python 3",
   "language": "python",
   "name": "python3"
  },
  "language_info": {
   "codemirror_mode": {
    "name": "ipython",
    "version": 3
   },
   "file_extension": ".py",
   "mimetype": "text/x-python",
   "name": "python",
   "nbconvert_exporter": "python",
   "pygments_lexer": "ipython3",
   "version": "3.12.4"
  }
 },
 "nbformat": 4,
 "nbformat_minor": 2
}
