{
 "cells": [
  {
   "cell_type": "markdown",
   "metadata": {},
   "source": [
    "### Introduction ###\n",
    "\n",
    "The following notebook deals with the tasks assigned throughout the semester"
   ]
  },
  {
   "cell_type": "markdown",
   "metadata": {},
   "source": [
    "### Libraries/Imports ###\n",
    "\n",
    "The following python libraries have been imported for use in satisdying the requirements of the assinged tasks.\n"
   ]
  },
  {
   "cell_type": "code",
   "execution_count": 63,
   "metadata": {},
   "outputs": [],
   "source": [
    "import math                         #import the math library\n",
    "import itertools                    #import itertools library\n",
    "import random                       #import random module\n",
    "import numpy as np                  #import numpy library\n",
    "import matplotlib.pyplot as plt     #import matplot library"
   ]
  },
  {
   "cell_type": "markdown",
   "metadata": {},
   "source": [
    "---"
   ]
  },
  {
   "cell_type": "markdown",
   "metadata": {},
   "source": [
    "### Task 1: Permutations and Combinations ###\n",
    "\n"
   ]
  },
  {
   "cell_type": "markdown",
   "metadata": {},
   "source": [
    "**Question**\n",
    "\n",
    "*Suppose we alter the Lady Tasting Tea experiment to involve twelve cups of tea. Six have the milk in first and the other six having tea in first. A person claims they have the special power of being able to tell whether the tea or the milk went into a cup first upon tasting it. You agree to accept their claim if they can tell which of the six cups in your experiment had the milk in first.*\n",
    "\n",
    "*Calculate, using Python, the probability that they select the correct six cups. Here you should assume that they have no special powers in figuring it out, that they are just guessing. Remember to show and justify your workings in code and MarkDown cells.*\n",
    "\n",
    "*Suppose, now, you are willing to accept one error. Once they select the six cups they think had the milk in first, you will give them the benefit of the doubt should they have selected at least five of the correct cups. Calculate the probability, assuming they have no special powers, that the person makes at most one error.*\n",
    "\n",
    "*Would you accept two errors? Explain.*"
   ]
  },
  {
   "cell_type": "markdown",
   "metadata": {},
   "source": [
    "The fist step is to calculate the probability of the lady picking the 6 correct cups, that is the 6 cups of tea made with milk first."
   ]
  },
  {
   "cell_type": "code",
   "execution_count": 64,
   "metadata": {},
   "outputs": [
    {
     "name": "stdout",
     "output_type": "stream",
     "text": [
      "924\n"
     ]
    }
   ],
   "source": [
    "n = 12                              #number of cups of tea in experiment\n",
    "k = 6                               #number of cups wiht milk in first\n",
    "print(math.comb(n,k))               #calculate and print the numner of potential combinations of cups with milk first based on 12 cups without order (order doesnt matter)\n"
   ]
  },
  {
   "cell_type": "markdown",
   "metadata": {},
   "source": [
    "The above illustrates that the lady has 1 in 924 chances of correctly grouping the cups of tea assuming she has no special ability identify cups of tea when there are 12 cups of tea, 6 of whcih had milk put in first."
   ]
  },
  {
   "cell_type": "code",
   "execution_count": 65,
   "metadata": {},
   "outputs": [
    {
     "name": "stdout",
     "output_type": "stream",
     "text": [
      "Probability of Success: 0.0010822510822510823\n"
     ]
    }
   ],
   "source": [
    "#calculate pobability of the lady correctly selecting the 6 correct cups.\n",
    "\n",
    "print(\"Probability of Success: \" + str(1/ math.comb(n,k)))"
   ]
  },
  {
   "cell_type": "markdown",
   "metadata": {},
   "source": [
    "Now, we will look at the overlaps within the data. That is, looking at all the possible combinations of cups available to the lady. Obviously, there is only 1 correct answer, all 6 cups classified correctly and one exactly wrong answer where all 6 cups are grouped correctly by classified as milk first where in reality the selected 6 cups are tea first."
   ]
  },
  {
   "cell_type": "code",
   "execution_count": 66,
   "metadata": {},
   "outputs": [],
   "source": [
    "labels = list(range(n))                             #first we create a list containing the 12 possible option [0, 1, ... , 11]\n",
    "combos = list(itertools.combinations(labels,k))     #Create a list of all the possible combinations consisting of 6 cups\n"
   ]
  },
  {
   "cell_type": "markdown",
   "metadata": {},
   "source": [
    "At this point, we have made a list of all the possible 6 cup combinations (924). now we want to create a list of cups that have been made with milk first."
   ]
  },
  {
   "cell_type": "code",
   "execution_count": 67,
   "metadata": {},
   "outputs": [
    {
     "data": {
      "text/plain": [
       "[4, 5, 6, 7, 8, 10]"
      ]
     },
     "execution_count": 67,
     "metadata": {},
     "output_type": "execute_result"
    }
   ],
   "source": [
    "milk_first = random.sample(labels,k)    #use the random library to create a sample of milk first cups of t. k is used as an input here so we can change the parameters of the study and rerun the notebook to update workings. we use the sample function so replacement is not allowed (we can classiify cup x as milk first more than once) \n",
    "milk_first.sort()                       #Sort the list for easier assessment\n",
    "milk_first                              #print out the sorted list of cups that have milk first"
   ]
  },
  {
   "cell_type": "markdown",
   "metadata": {},
   "source": [
    "Now we want to know what the overlap between the correct list of cups with milk first and the possible options open to the lady. This will show us how may chances there are to correctly classify 1, 2, 3 etc cups.\n",
    "\n",
    "Essentially, we will look at all possible combinations calculated above and simply calculate the number of common values in the milk_first variable above and each possible selection."
   ]
  },
  {
   "cell_type": "code",
   "execution_count": 68,
   "metadata": {},
   "outputs": [],
   "source": [
    "no_overlaps = []                        #start by creating an empty list to append the assessments to\n",
    "\n",
    "for x in combos:                        #set up a for loop to run throuh the list of possible combinations in the combos list\n",
    "    s1 = set(x)                         #convert the x record in the comnbos list to a set\n",
    "    s2 = set(milk_first)                #convert the milk first list to a set\n",
    "    overlap = s1.intersection(s2)       #calculate the intersection between x and the milk_first cups\n",
    "    #print (x, overlap, len(overlap))   #print out the values in the set x, values in the milk_first set and the number of overlap in each\n",
    "    no_overlaps.append(len(overlap))    #add the length of the over lap to the no_overlaps list we set up earlier. This is essentially the nuber of common values in x and the milk_first set of cups\n",
    "\n",
    "#print(no_overlaps)"
   ]
  },
  {
   "cell_type": "markdown",
   "metadata": {},
   "source": [
    "So far, we have identified all the possible combination of cups available to the lady, created a data set that selects the milk_first cups of tea at random and evaluated the overlap between the milk_first cups and the available combinations.\n",
    "\n",
    "Now we want to look at the rate of occurance of each level of overlap, that is 0 correct classification in the selection all the way up to 6 correct classificaitons."
   ]
  },
  {
   "cell_type": "code",
   "execution_count": 69,
   "metadata": {},
   "outputs": [
    {
     "data": {
      "text/plain": [
       "(array([0, 1, 2, 3, 4, 5, 6]), array([  1,  36, 225, 400, 225,  36,   1]))"
      ]
     },
     "execution_count": 69,
     "metadata": {},
     "output_type": "execute_result"
    }
   ],
   "source": [
    "counts = np.unique(no_overlaps, return_counts=True) #counts all levels of occurance of overlap to understand distribution\n",
    "counts\n"
   ]
  },
  {
   "cell_type": "code",
   "execution_count": null,
   "metadata": {},
   "outputs": [
    {
     "data": {
      "text/plain": [
       "<BarContainer object of 7 artists>"
      ]
     },
     "execution_count": 70,
     "metadata": {},
     "output_type": "execute_result"
    },
    {
     "data": {
      "image/png": "[encoded data removed]",
      "text/plain": [
       "<Figure size 640x480 with 1 Axes>"
      ]
     },
     "metadata": {},
     "output_type": "display_data"
    }
   ],
   "source": [
    "fig, ax = plt.subplots()        #create empty plot for graph\n",
    "ax.bar(counts[0], counts[1])    #plot the occurance of varying levels of overlap"
   ]
  },
  {
   "cell_type": "markdown",
   "metadata": {},
   "source": [
    "Next we want to calculate the probability of the lady getting 5 out of 6 cups classified correctly."
   ]
  },
  {
   "cell_type": "code",
   "execution_count": null,
   "metadata": {},
   "outputs": [
    {
     "name": "stdout",
     "output_type": "stream",
     "text": [
      "Probability of getting 1 wrong: 0.04004329004329004\n"
     ]
    }
   ],
   "source": [
    "\n",
    "one_wrong = (counts[1][(len(counts[1]))-1] + counts[1][(len(counts[1]))-2])/len(combos) #calculate the probability of the lady classifying 1 cup incorrectly\n",
    "print(\"Probability of getting 1 wrong: \" + str(one_wrong)) #print probability"
   ]
  },
  {
   "cell_type": "markdown",
   "metadata": {},
   "source": [
    "The above analysis illustrates that the lady has a 4% chance of getting 5 out of 6 cups classified correcttly. In my view, this is an acceptable level cetainty to reject the null hypothesis that the lady is guessing at random.\n",
    "\n",
    "The final step is repeating this analysis, to find the probability of getting 2 wrong."
   ]
  },
  {
   "cell_type": "code",
   "execution_count": 74,
   "metadata": {},
   "outputs": [
    {
     "name": "stdout",
     "output_type": "stream",
     "text": [
      "Probability of getting 2 wrong: 0.28354978354978355\n"
     ]
    }
   ],
   "source": [
    "two_wrong = (counts[1][(len(counts[1]))-1] + counts[1][(len(counts[1]))-2]+ counts[1][(len(counts[1]))-3])/len(combos) #calculate the probability of the lady classifying 2 cup incorrectly\n",
    "print(\"Probability of getting 2 wrong: \" + str(two_wrong)) #print probability"
   ]
  },
  {
   "cell_type": "markdown",
   "metadata": {},
   "source": [
    "The above analysis shows a probability of getting 2 cups wrong as 28%. Allowing 2 miclassifications does not provide enough evidence to reject the null hypothesis. Essentially, this means that anyone, guessing if the tea was mande with milk first will correctly classify 4 out of 6 cups 28% of the time.\n",
    "\n",
    "Summary of results:\n",
    "- Probability of Correct classification of all 6 cups:    0.01%\n",
    "- Probability of Correct classification with 1 error:     4.00%\n",
    "- Probability of Correct classification with 2 errors:    28.35%"
   ]
  },
  {
   "cell_type": "markdown",
   "metadata": {},
   "source": [
    "---"
   ]
  },
  {
   "cell_type": "markdown",
   "metadata": {},
   "source": [
    "### Task 2: numpy's Normal Distribution ###"
   ]
  },
  {
   "cell_type": "markdown",
   "metadata": {},
   "source": [
    "**Question**\n",
    "\n",
    "*In this task you will assess whether numpy.random.normal() properly generates normal values. To begin, generate a sample of one hundred thousand values using the function with mean 10.0 and standard deviation 3.0.*\n",
    "\n",
    "*Use the scipy.stats.shapiro() function to test whether your sample came from a normal distribution. Explain the results and output.*\n",
    "\n",
    "*Plot a histogram of your values and plot the corresponding normal distribution probability density function on top of it.*"
   ]
  },
  {
   "cell_type": "markdown",
   "metadata": {},
   "source": [
    "First we want to generate a random set of values with normal distribution."
   ]
  },
  {
   "cell_type": "code",
   "execution_count": null,
   "metadata": {},
   "outputs": [
    {
     "data": {
      "text/plain": [
       "100000"
      ]
     },
     "execution_count": 76,
     "metadata": {},
     "output_type": "execute_result"
    }
   ],
   "source": [
    "ds = np.random.normal(10.0, 3.0, 100000)\n",
    "len(ds)"
   ]
  },
  {
   "cell_type": "markdown",
   "metadata": {},
   "source": [
    "---"
   ]
  },
  {
   "cell_type": "markdown",
   "metadata": {},
   "source": [
    "### Task 3: t-Test Calculation ###"
   ]
  },
  {
   "cell_type": "markdown",
   "metadata": {},
   "source": [
    "**Question**\n",
    "\n",
    "*Consider the following dataset containing resting heart rates for patients before and after embarking on a two-week exercise program.*\n",
    "\n",
    "*Patient ID\t0\t1\t2\t3\t4\t5\t6\t7\t8\t9*\n",
    "\n",
    "*Before\t    63\t68\t70\t64\t74\t67\t70\t57\t66\t65*\n",
    "\n",
    "*After\t    64\t64\t68\t64\t73\t70\t72\t54\t61\t63*\n",
    "\n",
    "*Calculate the t-statistic based on this data set, using Python. Compare it to the value given by scipy.stats. Explain your work and list any sources used.*"
   ]
  },
  {
   "cell_type": "markdown",
   "metadata": {},
   "source": [
    "---"
   ]
  },
  {
   "cell_type": "markdown",
   "metadata": {},
   "source": [
    "### Task 4: ANOVA ###"
   ]
  },
  {
   "cell_type": "markdown",
   "metadata": {},
   "source": [
    "**Question**\n",
    "\n",
    "*In this test we will estimate the probability of committing a type II error in specific circumstances. To begin, create a variable called no_type_ii and set it to 0.*\n",
    "\n",
    "*Now use a loop to perform the following test 10,000 times.*\n",
    "\n",
    "*Use numpy.random.normal to generate three samples with 100 values each. Give each a standard deviation of 0.1. Give the first sample a mean of 4.9, the second a mean of 5.0, and the third a mean of 5.1.*\n",
    "\n",
    "*Perform one-way anova on the three samples and add 1 to no_type_ii whenever a type II error occurs.*\n",
    "\n",
    "*Summarize and explain your results.*"
   ]
  },
  {
   "cell_type": "markdown",
   "metadata": {},
   "source": [
    "---"
   ]
  }
 ],
 "metadata": {
  "kernelspec": {
   "display_name": "Python 3",
   "language": "python",
   "name": "python3"
  },
  "language_info": {
   "codemirror_mode": {
    "name": "ipython",
    "version": 3
   },
   "file_extension": ".py",
   "mimetype": "text/x-python",
   "name": "python",
   "nbconvert_exporter": "python",
   "pygments_lexer": "ipython3",
   "version": "3.12.4"
  }
 },
 "nbformat": 4,
 "nbformat_minor": 2
}
