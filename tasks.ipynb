{
 "cells": [
  {
   "cell_type": "markdown",
   "metadata": {},
   "source": [
    "### Introduction ###\n",
    "\n",
    "The following notebook deals with the tasks assigned throughout the semester"
   ]
  },
  {
   "cell_type": "markdown",
   "metadata": {},
   "source": [
    "### Libraries/Imports ###\n",
    "\n",
    "The following python libraries have been imported for use in satisdying the requirements of the assinged tasks.\n"
   ]
  },
  {
   "cell_type": "code",
   "execution_count": 79,
   "metadata": {},
   "outputs": [],
   "source": [
    "import math                         #import the math library\n",
    "import itertools                    #import itertools library\n",
    "import random                       #import random module\n",
    "import numpy as np                  #import numpy library\n",
    "import matplotlib.pyplot as plt     #import matplot library\n",
    "import scipy.stats as stats         #import scipy module\n",
    "import statsmodels as sm            #import statistical models library\n",
    "import pandas as pd                 #import pandas library\n",
    "import seaborn as sns               #import seaborn library\n"
   ]
  },
  {
   "cell_type": "markdown",
   "metadata": {},
   "source": [
    "---"
   ]
  },
  {
   "cell_type": "markdown",
   "metadata": {},
   "source": [
    "### Task 1: Permutations and Combinations ###\n",
    "\n"
   ]
  },
  {
   "cell_type": "markdown",
   "metadata": {},
   "source": [
    "**Question**\n",
    "\n",
    "*Suppose we alter the Lady Tasting Tea experiment to involve twelve cups of tea. Six have the milk in first and the other six having tea in first. A person claims they have the special power of being able to tell whether the tea or the milk went into a cup first upon tasting it. You agree to accept their claim if they can tell which of the six cups in your experiment had the milk in first.*\n",
    "\n",
    "*Calculate, using Python, the probability that they select the correct six cups. Here you should assume that they have no special powers in figuring it out, that they are just guessing. Remember to show and justify your workings in code and MarkDown cells.*\n",
    "\n",
    "*Suppose, now, you are willing to accept one error. Once they select the six cups they think had the milk in first, you will give them the benefit of the doubt should they have selected at least five of the correct cups. Calculate the probability, assuming they have no special powers, that the person makes at most one error.*\n",
    "\n",
    "*Would you accept two errors? Explain.*"
   ]
  },
  {
   "cell_type": "markdown",
   "metadata": {},
   "source": [
    "The fist step is to calculate the probability of the lady picking the 6 correct cups, that is the 6 cups of tea made with milk first."
   ]
  },
  {
   "cell_type": "code",
   "execution_count": 80,
   "metadata": {},
   "outputs": [
    {
     "name": "stdout",
     "output_type": "stream",
     "text": [
      "924\n"
     ]
    }
   ],
   "source": [
    "n = 12                              #number of cups of tea in experiment\n",
    "k = 6                               #number of cups wiht milk in first\n",
    "print(math.comb(n,k))               #calculate and print the numner of potential combinations of cups with milk first based on 12 cups without order (order doesnt matter)\n"
   ]
  },
  {
   "cell_type": "markdown",
   "metadata": {},
   "source": [
    "The above illustrates that the lady has 1 in 924 chances of correctly grouping the cups of tea assuming she has no special ability identify cups of tea when there are 12 cups of tea, 6 of whcih had milk put in first."
   ]
  },
  {
   "cell_type": "code",
   "execution_count": 81,
   "metadata": {},
   "outputs": [
    {
     "name": "stdout",
     "output_type": "stream",
     "text": [
      "Probability of Success: 0.0010822510822510823\n"
     ]
    }
   ],
   "source": [
    "#calculate pobability of the lady correctly selecting the 6 correct cups.\n",
    "\n",
    "print(\"Probability of Success: \" + str(1/ math.comb(n,k)))"
   ]
  },
  {
   "cell_type": "markdown",
   "metadata": {},
   "source": [
    "Now, we will look at the overlaps within the data. That is, looking at all the possible combinations of cups available to the lady. Obviously, there is only 1 correct answer, all 6 cups classified correctly and one exactly wrong answer where all 6 cups are grouped correctly by classified as milk first where in reality the selected 6 cups are tea first."
   ]
  },
  {
   "cell_type": "code",
   "execution_count": 82,
   "metadata": {},
   "outputs": [],
   "source": [
    "labels = list(range(n))                             #first we create a list containing the 12 possible option [0, 1, ... , 11]\n",
    "combos = list(itertools.combinations(labels,k))     #Create a list of all the possible combinations consisting of 6 cups\n"
   ]
  },
  {
   "cell_type": "markdown",
   "metadata": {},
   "source": [
    "At this point, we have made a list of all the possible 6 cup combinations (924). now we want to create a list of cups that have been made with milk first."
   ]
  },
  {
   "cell_type": "code",
   "execution_count": 83,
   "metadata": {},
   "outputs": [
    {
     "data": {
      "text/plain": [
       "[1, 3, 5, 6, 7, 11]"
      ]
     },
     "execution_count": 83,
     "metadata": {},
     "output_type": "execute_result"
    }
   ],
   "source": [
    "milk_first = random.sample(labels,k)    #use the random library to create a sample of milk first cups of t. k is used as an input here so we can change the parameters of the study and rerun the notebook to update workings. we use the sample function so replacement is not allowed (we can classiify cup x as milk first more than once) \n",
    "milk_first.sort()                       #Sort the list for easier assessment\n",
    "milk_first                              #print out the sorted list of cups that have milk first"
   ]
  },
  {
   "cell_type": "markdown",
   "metadata": {},
   "source": [
    "Now we want to know what the overlap between the correct list of cups with milk first and the possible options open to the lady. This will show us how may chances there are to correctly classify 1, 2, 3 etc cups.\n",
    "\n",
    "Essentially, we will look at all possible combinations calculated above and simply calculate the number of common values in the milk_first variable above and each possible selection."
   ]
  },
  {
   "cell_type": "code",
   "execution_count": 84,
   "metadata": {},
   "outputs": [],
   "source": [
    "no_overlaps = []                        #start by creating an empty list to append the assessments to\n",
    "\n",
    "for x in combos:                        #set up a for loop to run throuh the list of possible combinations in the combos list\n",
    "    s1 = set(x)                         #convert the x record in the comnbos list to a set\n",
    "    s2 = set(milk_first)                #convert the milk first list to a set\n",
    "    overlap = s1.intersection(s2)       #calculate the intersection between x and the milk_first cups\n",
    "    #print (x, overlap, len(overlap))   #print out the values in the set x, values in the milk_first set and the number of overlap in each\n",
    "    no_overlaps.append(len(overlap))    #add the length of the over lap to the no_overlaps list we set up earlier. This is essentially the nuber of common values in x and the milk_first set of cups\n",
    "\n",
    "#print(no_overlaps)"
   ]
  },
  {
   "cell_type": "markdown",
   "metadata": {},
   "source": [
    "So far, we have identified all the possible combination of cups available to the lady, created a data set that selects the milk_first cups of tea at random and evaluated the overlap between the milk_first cups and the available combinations.\n",
    "\n",
    "Now we want to look at the rate of occurance of each level of overlap, that is 0 correct classification in the selection all the way up to 6 correct classificaitons."
   ]
  },
  {
   "cell_type": "code",
   "execution_count": 85,
   "metadata": {},
   "outputs": [
    {
     "data": {
      "text/plain": [
       "(array([0, 1, 2, 3, 4, 5, 6]), array([  1,  36, 225, 400, 225,  36,   1]))"
      ]
     },
     "execution_count": 85,
     "metadata": {},
     "output_type": "execute_result"
    }
   ],
   "source": [
    "counts = np.unique(no_overlaps, return_counts=True) #counts all levels of occurance of overlap to understand distribution\n",
    "counts\n"
   ]
  },
  {
   "cell_type": "code",
   "execution_count": 86,
   "metadata": {},
   "outputs": [
    {
     "data": {
      "text/plain": [
       "<BarContainer object of 7 artists>"
      ]
     },
     "execution_count": 86,
     "metadata": {},
     "output_type": "execute_result"
    },
    {
     "data": {
      "image/png": "[encoded data removed]",
      "text/plain": [
       "<Figure size 640x480 with 1 Axes>"
      ]
     },
     "metadata": {},
     "output_type": "display_data"
    }
   ],
   "source": [
    "fig, ax = plt.subplots()        #create empty plot for graph\n",
    "ax.bar(counts[0], counts[1])    #plot the occurance of varying levels of overlap"
   ]
  },
  {
   "cell_type": "markdown",
   "metadata": {},
   "source": [
    "Next we want to calculate the probability of the lady getting 5 out of 6 cups classified correctly."
   ]
  },
  {
   "cell_type": "code",
   "execution_count": 87,
   "metadata": {},
   "outputs": [
    {
     "name": "stdout",
     "output_type": "stream",
     "text": [
      "Probability of getting 1 wrong: 0.04004329004329004\n"
     ]
    }
   ],
   "source": [
    "\n",
    "one_wrong = (counts[1][(len(counts[1]))-1] + counts[1][(len(counts[1]))-2])/len(combos)     #calculate the probability of the lady classifying 1 cup incorrectly\n",
    "print(\"Probability of getting 1 wrong: \" + str(one_wrong))                                  #print probability"
   ]
  },
  {
   "cell_type": "markdown",
   "metadata": {},
   "source": [
    "The above analysis illustrates that the lady has a 4% chance of getting 5 out of 6 cups classified correcttly. In my view, this is an acceptable level cetainty to reject the null hypothesis that the lady is guessing at random.\n",
    "\n",
    "The final step is repeating this analysis, to find the probability of getting 2 wrong."
   ]
  },
  {
   "cell_type": "code",
   "execution_count": 88,
   "metadata": {},
   "outputs": [
    {
     "name": "stdout",
     "output_type": "stream",
     "text": [
      "Probability of getting 2 wrong: 0.28354978354978355\n"
     ]
    }
   ],
   "source": [
    "two_wrong = (counts[1][(len(counts[1]))-1] + counts[1][(len(counts[1]))-2]+ counts[1][(len(counts[1]))-3])/len(combos)  #calculate the probability of the lady classifying 2 cup incorrectly\n",
    "print(\"Probability of getting 2 wrong: \" + str(two_wrong))                                                              #print probability"
   ]
  },
  {
   "cell_type": "markdown",
   "metadata": {},
   "source": [
    "The above analysis shows a probability of getting 2 cups wrong as 28%. Allowing 2 miclassifications does not provide enough evidence to reject the null hypothesis. Essentially, this means that anyone, guessing if the tea was mande with milk first will correctly classify 4 out of 6 cups 28% of the time.\n",
    "\n",
    "Summary of results:\n",
    "- Probability of Correct classification of all 6 cups:    0.01%\n",
    "- Probability of Correct classification with 1 error:     4.00%\n",
    "- Probability of Correct classification with 2 errors:    28.35%"
   ]
  },
  {
   "cell_type": "markdown",
   "metadata": {},
   "source": [
    "---"
   ]
  },
  {
   "cell_type": "markdown",
   "metadata": {},
   "source": [
    "### Task 2: numpy's Normal Distribution ###"
   ]
  },
  {
   "cell_type": "markdown",
   "metadata": {},
   "source": [
    "**Question**\n",
    "\n",
    "*In this task you will assess whether numpy.random.normal() properly generates normal values. To begin, generate a sample of one hundred thousand values using the function with mean 10.0 and standard deviation 3.0.*\n",
    "\n",
    "*Use the scipy.stats.shapiro() function to test whether your sample came from a normal distribution. Explain the results and output.*\n",
    "\n",
    "*Plot a histogram of your values and plot the corresponding normal distribution probability density function on top of it.*"
   ]
  },
  {
   "cell_type": "markdown",
   "metadata": {},
   "source": [
    "First we want to generate a random set of values with normal distribution."
   ]
  },
  {
   "cell_type": "code",
   "execution_count": 89,
   "metadata": {},
   "outputs": [
    {
     "data": {
      "text/plain": [
       "100000"
      ]
     },
     "execution_count": 89,
     "metadata": {},
     "output_type": "execute_result"
    }
   ],
   "source": [
    "ds = np.random.normal(10.0, 3.0, 100000) #generate a random sample of normally distributred data with 100,000 data points, a mean of 10 and standard deviation of 3\n",
    "len(ds)"
   ]
  },
  {
   "cell_type": "markdown",
   "metadata": {},
   "source": [
    "Now that we have generated our dataset we will viualise it using a histogram."
   ]
  },
  {
   "cell_type": "code",
   "execution_count": 90,
   "metadata": {},
   "outputs": [
    {
     "data": {
      "text/plain": [
       "(array([2.000e+00, 3.000e+00, 6.000e+00, 1.800e+01, 1.700e+01, 3.300e+01,\n",
       "        5.700e+01, 1.030e+02, 1.520e+02, 2.140e+02, 3.400e+02, 5.500e+02,\n",
       "        7.480e+02, 1.042e+03, 1.388e+03, 1.862e+03, 2.454e+03, 3.055e+03,\n",
       "        3.714e+03, 4.361e+03, 4.874e+03, 5.648e+03, 6.194e+03, 6.395e+03,\n",
       "        6.562e+03, 6.563e+03, 6.450e+03, 6.157e+03, 5.618e+03, 5.004e+03,\n",
       "        4.286e+03, 3.764e+03, 3.036e+03, 2.489e+03, 1.987e+03, 1.476e+03,\n",
       "        1.088e+03, 7.840e+02, 5.080e+02, 3.720e+02, 2.200e+02, 1.750e+02,\n",
       "        1.020e+02, 5.600e+01, 2.900e+01, 2.100e+01, 1.300e+01, 5.000e+00,\n",
       "        3.000e+00, 2.000e+00]),\n",
       " array([-2.47779019e+00, -1.97990381e+00, -1.48201742e+00, -9.84131035e-01,\n",
       "        -4.86244649e-01,  1.16417376e-02,  5.09528124e-01,  1.00741451e+00,\n",
       "         1.50530090e+00,  2.00318728e+00,  2.50107367e+00,  2.99896006e+00,\n",
       "         3.49684644e+00,  3.99473283e+00,  4.49261922e+00,  4.99050560e+00,\n",
       "         5.48839199e+00,  5.98627837e+00,  6.48416476e+00,  6.98205115e+00,\n",
       "         7.47993753e+00,  7.97782392e+00,  8.47571031e+00,  8.97359669e+00,\n",
       "         9.47148308e+00,  9.96936947e+00,  1.04672559e+01,  1.09651422e+01,\n",
       "         1.14630286e+01,  1.19609150e+01,  1.24588014e+01,  1.29566878e+01,\n",
       "         1.34545742e+01,  1.39524606e+01,  1.44503469e+01,  1.49482333e+01,\n",
       "         1.54461197e+01,  1.59440061e+01,  1.64418925e+01,  1.69397789e+01,\n",
       "         1.74376653e+01,  1.79355516e+01,  1.84334380e+01,  1.89313244e+01,\n",
       "         1.94292108e+01,  1.99270972e+01,  2.04249836e+01,  2.09228700e+01,\n",
       "         2.14207564e+01,  2.19186427e+01,  2.24165291e+01]),\n",
       " <BarContainer object of 50 artists>)"
      ]
     },
     "execution_count": 90,
     "metadata": {},
     "output_type": "execute_result"
    },
    {
     "data": {
      "image/png": "[encoded data removed]",
      "text/plain": [
       "<Figure size 640x480 with 1 Axes>"
      ]
     },
     "metadata": {},
     "output_type": "display_data"
    }
   ],
   "source": [
    "fig, ax = plt.subplots()                       #Create a blank plot\n",
    "ax.hist(ds, edgecolor = 'black', bins = 50)    #visualise the data created in the ds variable above"
   ]
  },
  {
   "cell_type": "markdown",
   "metadata": {},
   "source": [
    "The above histogram illustrates the distribution of the data generated. The data appears to be normally distributed which will form the basis of our assumption in relation to the data. Next we will complete a shapiro wilks test in order to test the data for normality"
   ]
  },
  {
   "cell_type": "code",
   "execution_count": 91,
   "metadata": {},
   "outputs": [
    {
     "name": "stderr",
     "output_type": "stream",
     "text": [
      "C:\\Users\\mcase\\AppData\\Roaming\\Python\\Python312\\site-packages\\scipy\\stats\\_axis_nan_policy.py:573: UserWarning: scipy.stats.shapiro: For N > 5000, computed p-value may not be accurate. Current N is 100000.\n",
      "  res = hypotest_fun_out(*samples, **kwds)\n"
     ]
    },
    {
     "data": {
      "text/plain": [
       "ShapiroResult(statistic=np.float64(0.9999860781500557), pvalue=np.float64(0.9917138640691305))"
      ]
     },
     "execution_count": 91,
     "metadata": {},
     "output_type": "execute_result"
    }
   ],
   "source": [
    "stats.shapiro(ds) #perform shapiro wilks test on the data"
   ]
  },
  {
   "cell_type": "markdown",
   "metadata": {},
   "source": [
    "The above result provides a statistic value of 0.99 and a p-value of 0.94 (based on generated data at time or writing).\n",
    "\n",
    "A p-value of 5% is what is typically considered to detemrine signifncance. If our p-value was below 5% we would be able to reject the null hypothesis. Note, the confidence level of requirement for the p-value is set by the user. 5% is commmonly used but this can shift up or down depending on the requirements or applicaiton. \n",
    "\n",
    "With the null hypotesis of the shapiro wilks test being that the data is drawn from a normal distribution, a p-value of 0.94 gives us confidence that we can not reject the null hypothesis, in other words, we can accept that there is no reason to indicate that the data is not normally distributed.\n",
    "\n",
    "Next we want to graph our generated data and the normal distribution probability density function.\n"
   ]
  },
  {
   "cell_type": "code",
   "execution_count": 92,
   "metadata": {},
   "outputs": [
    {
     "data": {
      "text/plain": [
       "[<matplotlib.lines.Line2D at 0x19d0a934f80>]"
      ]
     },
     "execution_count": 92,
     "metadata": {},
     "output_type": "execute_result"
    },
    {
     "data": {
      "image/png": "[encoded data removed]",
      "text/plain": [
       "<Figure size 640x480 with 1 Axes>"
      ]
     },
     "metadata": {},
     "output_type": "display_data"
    }
   ],
   "source": [
    "fig, ax = plt.subplots()                                    #first we create a graph area\n",
    "x = np.linspace(0, 20, 50)                                  #create a variable for creating the histogram bins and the normal distribtuon density function\n",
    "ax.hist(ds, edgecolor = 'black', density = True, bins = x)  #plot our data in a histogram, note density = true added\n",
    "ax.plot(x, stats.norm.pdf(x, 10.0, 3.0) , 'r-')             #plot the density function. This took some time to realise I needed to set the standard deviation and mean for the function.\n",
    "#stats.norm.pdf(x, 10.0, 3.0)\n"
   ]
  },
  {
   "cell_type": "markdown",
   "metadata": {},
   "source": [
    "---"
   ]
  },
  {
   "cell_type": "markdown",
   "metadata": {},
   "source": [
    "### Task 3: t-Test Calculation ###"
   ]
  },
  {
   "cell_type": "markdown",
   "metadata": {},
   "source": [
    "**Question**\n",
    "\n",
    "*Consider the following dataset containing resting heart rates for patients before and after embarking on a two-week exercise program.*\n",
    "\n",
    "*Patient ID\t0\t1\t2\t3\t4\t5\t6\t7\t8\t9*\n",
    "\n",
    "*Before\t    63\t68\t70\t64\t74\t67\t70\t57\t66\t65*\n",
    "\n",
    "*After\t    64\t64\t68\t64\t73\t70\t72\t54\t61\t63*\n",
    "\n",
    "*Calculate the t-statistic based on this data set, using Python. Compare it to the value given by scipy.stats. Explain your work and list any sources used.*"
   ]
  },
  {
   "cell_type": "markdown",
   "metadata": {},
   "source": [
    "First, we need to create arrays for each of the datasets provided for the question. This will allow us to do some analysis on the data."
   ]
  },
  {
   "cell_type": "code",
   "execution_count": 93,
   "metadata": {},
   "outputs": [],
   "source": [
    "before = np.array([63,68,70,64,74,67,70,57,66,65])  #create a numpy array for the before data set\n",
    "after = np.array([64,64,68,64,73,70,72,54,61,63])   #create a numpy array for the after dataset\n"
   ]
  },
  {
   "cell_type": "markdown",
   "metadata": {},
   "source": [
    "Now we will visualise each of the data sets in a couple of ways to gain some insight into the data."
   ]
  },
  {
   "cell_type": "code",
   "execution_count": 94,
   "metadata": {},
   "outputs": [
    {
     "data": {
      "text/plain": [
       "Text(0.5, 1.0, 'After')"
      ]
     },
     "execution_count": 94,
     "metadata": {},
     "output_type": "execute_result"
    },
    {
     "data": {
      "image/png": "[encoded data removed]",
      "text/plain": [
       "<Figure size 640x480 with 2 Axes>"
      ]
     },
     "metadata": {},
     "output_type": "display_data"
    }
   ],
   "source": [
    "fig, ax = plt.subplots(1, 2)                                #create plot area\n",
    "ax[0].hist(before, bins = 10, color = 'blue', alpha = 0.5)  #plot the before dataset\n",
    "ax[0].set_title('Before')                                   #apply a title to the graph\n",
    "ax[1].hist(after, bins = 10, color = 'green', alpha = 0.5)  #plot the after dataset\n",
    "ax[1].set_title('After')                                    #apply a title to the graph"
   ]
  },
  {
   "cell_type": "markdown",
   "metadata": {},
   "source": [
    "This generates a pair of graphs besire each other. Each has a seperate axis, with the before y axis going to 2 with teh after going to 3. This in its self is interesting. The following obesrvations can be made from these visualisations:\n",
    "\n",
    "- x axis range goes from approx. 55 to 75, where as the after is shifted back. \n",
    "- looking at the distribution of data, before 4 people were recorded with heart rates 65 or under and after has 6 - showing a reduction which will likely impact mean\n",
    "- before data peaks 3 times, all 65 plus, after has a single peak at 65\n",
    "\n",
    "\n",
    "Now, lets put both histograms on one axis.\n"
   ]
  },
  {
   "cell_type": "code",
   "execution_count": 95,
   "metadata": {},
   "outputs": [
    {
     "data": {
      "text/plain": [
       "(array([1., 0., 0., 1., 1., 3., 0., 1., 1., 2.]),\n",
       " array([54. , 55.9, 57.8, 59.7, 61.6, 63.5, 65.4, 67.3, 69.2, 71.1, 73. ]),\n",
       " <BarContainer object of 10 artists>)"
      ]
     },
     "execution_count": 95,
     "metadata": {},
     "output_type": "execute_result"
    },
    {
     "data": {
      "image/png": "[encoded data removed]",
      "text/plain": [
       "<Figure size 640x480 with 1 Axes>"
      ]
     },
     "metadata": {},
     "output_type": "display_data"
    }
   ],
   "source": [
    "fig, ax = plt.subplots()                                                    #create plot area\n",
    "ax.hist(before, bins = 10, color = 'blue', alpha = 0.5, label = 'Before')   #plot the before dataset\n",
    "ax.hist(after, bins = 10, color = 'green', alpha = 0.5, label = 'After')    #plot the after dataset"
   ]
  },
  {
   "cell_type": "markdown",
   "metadata": {},
   "source": [
    "This visualisation shows that the after dataset have certainly lower values over all. This analysis suggests that we do expect the mean of the after dataset is lower than the mean of the before dataset.\n",
    "\n",
    "Next, we will dray a strip plot to further examine the data."
   ]
  },
  {
   "cell_type": "code",
   "execution_count": null,
   "metadata": {},
   "outputs": [
    {
     "data": {
      "text/plain": [
       "<Axes: >"
      ]
     },
     "execution_count": 97,
     "metadata": {},
     "output_type": "execute_result"
    },
    {
     "data": {
      "image/png": "[encoded data removed]",
      "text/plain": [
       "<Figure size 640x480 with 1 Axes>"
      ]
     },
     "metadata": {},
     "output_type": "display_data"
    }
   ],
   "source": [
    "sns.stripplot(data=[before, after]) #use seaborn to generate stripplot"
   ]
  },
  {
   "cell_type": "markdown",
   "metadata": {},
   "source": [
    "This analysis somewhat adds confusion, the values are heavily overlapping for the majority of the data points. One observation is that the highest value is in the before data set and the lowest is in the after value which does support our findings above but for the most part, the values appear to be very similar with no real clear difference in the data sets.\n",
    "\n",
    "Now we will generate box plots to investigate if this visualisationw will give further insight. "
   ]
  },
  {
   "cell_type": "code",
   "execution_count": null,
   "metadata": {},
   "outputs": [
    {
     "data": {
      "text/plain": [
       "<Axes: >"
      ]
     },
     "execution_count": 98,
     "metadata": {},
     "output_type": "execute_result"
    },
    {
     "data": {
      "image/png": "[encoded data removed]",
      "text/plain": [
       "<Figure size 640x480 with 1 Axes>"
      ]
     },
     "metadata": {},
     "output_type": "display_data"
    }
   ],
   "source": [
    "sns.boxplot(data=[before, after]) #use seaborn to generate boxplot"
   ]
  },
  {
   "cell_type": "markdown",
   "metadata": {},
   "source": [
    "The above visualisation does give some more confidence to our above findings. The box plot clearly illustrates that the median value is approx 65 while the after dataset has a median value of approx. 64. Although there is a good amount of overlap in the box plots.\n",
    "\n",
    "Next we will complete a t-test on the data. In this scenario, we will need to complete a paired value t-test as each value in the before data set corrisponds with a datapoint in the after dataset. we will complete this test in 2 ways, the first, manually in python, the second using the scipy libraray. \n",
    "\n",
    "References for calculating t-value manually:\n",
    "\n",
    "\n",
    "- https://www.jmp.com/en_nl/statistics-knowledge-portal/t-test/paired-t-test.html#:~:text=What%20is%20the%20paired%20t,measurements%20is%20zero%20or%20not.\n",
    "- https://www.statisticssolutions.com/free-resources/directory-of-statistical-analyses/paired-sample-t-test/\n",
    "- https://www.youtube.com/watch?v=_7IW2PUqe64\n",
    "- https://sites.utexas.edu/sos/guided/inferential/numeric/onecat/2-groups/paired/paired-t/\n",
    "- https://numpy.org/doc/2.1/reference/generated/numpy.sum.html\n",
    "- https://numpy.org/doc/2.1/reference/generated/numpy.std.html\n",
    "- https://datatab.net/tutorial/t-distribution\n"
   ]
  },
  {
   "cell_type": "code",
   "execution_count": 137,
   "metadata": {},
   "outputs": [
    {
     "name": "stdout",
     "output_type": "stream",
     "text": [
      "1.3372274824806283\n"
     ]
    }
   ],
   "source": [
    "n = 10                                                          #number of cases in the study\n",
    "df = n-1                                                        #degrees of freedom (number of cases -1)\n",
    "diff = before - after                                           #calculate the difference between each of the values in the array\n",
    "mean_diff = np.sum((diff))/n                                    #mean of the differnece between each of the cases\n",
    "std_error = (np.std(diff, mean=mean_diff, ddof=1))/np.sqrt(n)   #calculate the standard error of the mean\n",
    "t_val = mean_diff/std_error                                     #calculate the t value\n",
    "print(t_val)                                                    #print the t-value"
   ]
  },
  {
   "cell_type": "markdown",
   "metadata": {},
   "source": [
    "Now that we have manually calculated our t value (1.337227), we need to determine if we can reject the null hypothesis. In order to do this, we need to identify the \"critical\" t value.\n",
    "Assuming we set the significant value of 5%, we can find the critical t value using the t value tables. The following image is an extract from the table:\n",
    "\n",
    "![T-test table](./images/t_test_table.jpg)\n",
    "\n",
    "Becasue we have a significance level of 5%, and we have a two tailed we need to look at the 0.975 (1 - (0.05/2)) column and our degrees of freedom is calculated as 9, we need to look at the 9 row. Our critical t-value is 2.262 (drawn from above table). As the calculated t-value (1.337) is smaller than the critical value (2.262), the null hypothesis cannot be rejected.\n",
    "\n",
    "Next we will use the built in t-test function in the scipy library"
   ]
  },
  {
   "cell_type": "code",
   "execution_count": null,
   "metadata": {},
   "outputs": [
    {
     "data": {
      "text/plain": [
       "TtestResult(statistic=np.float64(1.337227482480628), pvalue=np.float64(0.21396011317404623), df=np.int64(9))"
      ]
     },
     "execution_count": 99,
     "metadata": {},
     "output_type": "execute_result"
    }
   ],
   "source": [
    "stats.ttest_rel(before, after) #run t-test using scipy library"
   ]
  },
  {
   "cell_type": "markdown",
   "metadata": {},
   "source": [
    "Our null hypothesis is that the 2 week exercise program will have no impact on the heartrate of the subjects. A p value of 21.3% indicates that we can not reject the null hypothesis. \n",
    "\n",
    "Both approaches returned a t-test value of 1.33 and both suggested that we can not reject our null hypothesis that the 2 week exercise program has no effect on heatrate of participants."
   ]
  },
  {
   "cell_type": "markdown",
   "metadata": {},
   "source": [
    "---"
   ]
  },
  {
   "cell_type": "markdown",
   "metadata": {},
   "source": [
    "### Task 4: ANOVA ###"
   ]
  },
  {
   "cell_type": "markdown",
   "metadata": {},
   "source": [
    "**Question**\n",
    "\n",
    "*In this test we will estimate the probability of committing a type II error in specific circumstances. To begin, create a variable called no_type_ii and set it to 0.*\n",
    "\n",
    "*Now use a loop to perform the following test 10,000 times.*\n",
    "\n",
    "*Use numpy.random.normal to generate three samples with 100 values each. Give each a standard deviation of 0.1. Give the first sample a mean of 4.9, the second a mean of 5.0, and the third a mean of 5.1.*\n",
    "\n",
    "*Perform one-way anova on the three samples and add 1 to no_type_ii whenever a type II error occurs.*\n",
    "\n",
    "*Summarize and explain your results.*"
   ]
  },
  {
   "cell_type": "code",
   "execution_count": null,
   "metadata": {},
   "outputs": [],
   "source": [
    "no_type_ii = 0 #first we create a variable to store the count \n",
    "\n",
    "for n in range(10000):\n",
    "    pass\n"
   ]
  },
  {
   "cell_type": "markdown",
   "metadata": {},
   "source": [
    "---"
   ]
  }
 ],
 "metadata": {
  "kernelspec": {
   "display_name": "Python 3",
   "language": "python",
   "name": "python3"
  },
  "language_info": {
   "codemirror_mode": {
    "name": "ipython",
    "version": 3
   },
   "file_extension": ".py",
   "mimetype": "text/x-python",
   "name": "python",
   "nbconvert_exporter": "python",
   "pygments_lexer": "ipython3",
   "version": "3.12.4"
  }
 },
 "nbformat": 4,
 "nbformat_minor": 2
}
